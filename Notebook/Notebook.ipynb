{
 "cells": [
  {
   "cell_type": "code",
   "execution_count": 11,
   "metadata": {},
   "outputs": [],
   "source": [
    "import scipy as sp;\n",
    "import numpy as np;\n",
    "\n",
    "from scipy.stats import binom;\n",
    "import matplotlib.pylab as pl;\n",
    "from scipy import linalg\n",
    "from numpy import linalg\n",
    "from ipywidgets import interact;"
   ]
  },
  {
   "cell_type": "code",
   "execution_count": 13,
   "metadata": {},
   "outputs": [
    {
     "data": {
      "text/plain": [
       "array([   2.95      ,    2.95      ,    2.95      ,    2.95      ,\n",
       "          2.95      ,    2.95      ,    2.95      ,    2.95      ,\n",
       "          2.95      ,    2.95      ,    2.94999996,    2.94999966,\n",
       "          2.9499969 ,    2.94997213,    2.94974915,    2.94774237,\n",
       "          2.92968133,    2.76713194,    1.30418746,  -11.86231289,\n",
       "       -130.36081598])"
      ]
     },
     "metadata": {},
     "output_type": "display_data"
    }
   ],
   "source": [
    "import numpy as np;\n",
    "N = 20;\n",
    "a = np.zeros(N+1);\n",
    "a[0] = 2.95;\n",
    "a[1] = 2.95;\n",
    "for n in range(1,N):\n",
    "    a[n+1] = 10*a[n]-9*a[n-1];\n",
    "display(a)"
   ]
  },
  {
   "cell_type": "code",
   "execution_count": 14,
   "metadata": {},
   "outputs": [
    {
     "data": {
      "application/vnd.jupyter.widget-view+json": {
       "model_id": "a569a2edd1ec4a04bfc170c02c29feee",
       "version_major": 2,
       "version_minor": 0
      },
      "text/plain": [
       "interactive(children=(IntSlider(value=25, description='nnodes', max=45, min=5, step=2), Output()), _dom_classe…"
      ]
     },
     "metadata": {},
     "output_type": "display_data"
    }
   ],
   "source": [
    "def function(x):\n",
    "#     f = np.abs(x)+x/2-x**2;\n",
    "    f = 1.0/(1+25*x*x);\n",
    "#     f = np.abs(x+0.3) + np.abs(x-0.2) +  + np.abs(x*x*x*x-0.8);\n",
    "    return f;\n",
    "\n",
    "def Lagrange(xnodes,x,i):\n",
    "    f = 1;\n",
    "    nnodes = np.size(xnodes);\n",
    "    for j in range(0,i):\n",
    "        f = f*(x-xnodes[j])/(xnodes[i]-xnodes[j]);\n",
    "    for j in range(i+1,nnodes):\n",
    "        f = f*(x-xnodes[j])/(xnodes[i]-xnodes[j]);\n",
    "    return f;\n",
    "    \n",
    "def Chebyshev(nnodes,xplot):\n",
    "    # Chebyshev node in\"terpolation\n",
    "    xnodes    = np.cos(np.arange(0,nnodes)*np.pi/(nnodes-1));\n",
    "    fnodes     = function(xnodes);\n",
    "    fplot        = 0;\n",
    "    for i in range(0,nnodes):\n",
    "        fplot = fplot + fnodes[i]*Lagrange(xnodes,xplot,i);\n",
    "    return xnodes, fnodes, fplot;\n",
    "\n",
    "def Uniform(nnodes,xplot):\n",
    "    # Uniform node interpolation\n",
    "    xnodes    = np.linspace(-1,1,nnodes);\n",
    "    fnodes     = function(xnodes);\n",
    "    fplot        = 0;\n",
    "    for i in range(0,nnodes):\n",
    "        fplot = fplot + fnodes[i]*Lagrange(xnodes,xplot,i);\n",
    "    return xnodes, fnodes, fplot;\n",
    "\n",
    "def Bernstein(nnodes,xplot):\n",
    "    xnodes = np.linspace(-1,1,nnodes);\n",
    "    fnodes  = function(xnodes);\n",
    "    fplot = 0;\n",
    "    for i in range(0,nnodes):\n",
    "        fplot = fplot + sp.stats.binom.pmf(i,nnodes-1,0.5+0.5*xplot)*function(xnodes[i]);\n",
    "    return fplot;\n",
    "\n",
    "nplot       = 1001;\n",
    "xplot       = np.linspace(-1,1,nplot);\n",
    "f_actual   = function(xplot);\n",
    "@interact\n",
    "def inter(nnodes=(5,45,2)):\n",
    "#     xnodes, fnodes, fplot = Chebyshev(nnodes,xplot);\n",
    "#     xnodes, fnodes, fplot = Uniform(nnodes,xplot);\n",
    "    fplot        = Bernstein(nnodes,xplot);\n",
    "\n",
    "    error       = f_actual-fplot;\n",
    "    print(np.amax(np.abs(error)))\n",
    "    pl.plot(xplot,f_actual,'-');\n",
    "    pl.plot(xplot,fplot,'r');\n",
    "    pl.rcParams[\"figure.figsize\"] = [16,4];"
   ]
  }
 ],
 "metadata": {
  "kernelspec": {
   "display_name": "Python 3",
   "language": "python",
   "name": "python3"
  },
  "language_info": {
   "codemirror_mode": {
    "name": "ipython",
    "version": 3
   },
   "file_extension": ".py",
   "mimetype": "text/x-python",
   "name": "python",
   "nbconvert_exporter": "python",
   "pygments_lexer": "ipython3",
   "version": "3.6.6"
  }
 },
 "nbformat": 4,
 "nbformat_minor": 2
}
